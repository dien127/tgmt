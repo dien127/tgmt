{
 "cells": [
  {
   "cell_type": "code",
   "execution_count": 1,
   "id": "b084e07e-51f8-422b-b877-250fc04db2ae",
   "metadata": {},
   "outputs": [],
   "source": [
    "# Import thư viện\n",
    "from PIL import Image\n",
    "import matplotlib.pyplot as plt\n"
   ]
  },
  {
   "cell_type": "code",
   "execution_count": 5,
   "id": "e6a2aef3-daa5-4702-982f-5d5a6731da90",
   "metadata": {},
   "outputs": [
    {
     "name": "stdout",
     "output_type": "stream",
     "text": [
      "[(409.4729437229436, 130.8766233766233), (567.6114718614717, 352.8787878787878), (257.41666666666663, 196.26082251082244), (494.62445887445875, 243.39826839826833), (377.54112554112544, 296.61796536796527)]\n"
     ]
    }
   ],
   "source": [
    "# Đường dẫn ảnh\n",
    "my_path = 'D:/img/mot.jpg'\n",
    "\n",
    "# Đọc ảnh\n",
    "im = Image.open(my_path)\n",
    "\n",
    "# Chuyển đổi backend\n",
    "plt.switch_backend('tkagg')\n",
    "\n",
    "# Hiển thị ảnh\n",
    "plt.imshow(im)\n",
    "plt.title(\"Click on the image to select points\")\n",
    "\n",
    "# Sử dụng hàm ginput để chọn điểm trên ảnh\n",
    "points = plt.ginput(5)\n",
    "print(points)\n",
    "\n",
    "# Hiển thị\n",
    "plt.show()"
   ]
  },
  {
   "cell_type": "code",
   "execution_count": 6,
   "id": "264092a9-36ed-4fc4-9b3c-b80d123c5f25",
   "metadata": {},
   "outputs": [],
   "source": [
    "# Vẽ lại các điểm đã chọn bằng dấu * màu đỏ\n",
    "plt.close()\n",
    "\n",
    "# Vẽ lại\n",
    "plt.imshow(im)\n",
    "for point in points:\n",
    "    x, y = point\n",
    "    plt.plot(x, y, 'r*')\n",
    "\n",
    "plt.show()"
   ]
  },
  {
   "cell_type": "code",
   "execution_count": null,
   "id": "6f949973-2f3d-486b-bb40-25c6e744d71e",
   "metadata": {},
   "outputs": [],
   "source": []
  }
 ],
 "metadata": {
  "kernelspec": {
   "display_name": "Python 3 (ipykernel)",
   "language": "python",
   "name": "python3"
  },
  "language_info": {
   "codemirror_mode": {
    "name": "ipython",
    "version": 3
   },
   "file_extension": ".py",
   "mimetype": "text/x-python",
   "name": "python",
   "nbconvert_exporter": "python",
   "pygments_lexer": "ipython3",
   "version": "3.12.4"
  }
 },
 "nbformat": 4,
 "nbformat_minor": 5
}
