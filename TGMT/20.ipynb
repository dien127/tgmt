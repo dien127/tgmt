{
 "cells": [
  {
   "cell_type": "code",
   "execution_count": 1,
   "id": "a503fc0c-5385-4caa-aa98-a69130615ee5",
   "metadata": {},
   "outputs": [],
   "source": [
    "import cv2\n",
    "import numpy as np"
   ]
  },
  {
   "cell_type": "code",
   "execution_count": 32,
   "id": "05cdf58a-42a7-46c9-a2a9-090d2089bde0",
   "metadata": {},
   "outputs": [],
   "source": [
    "def display(title, img):\n",
    "    # Hiển thị ảnh\n",
    "    cv2.imshow(title, img)\n",
    "    # Chờ 1 khoảng thời gian\n",
    "    cv2.waitKey(0)\n",
    "    # Đóng window\n",
    "    cv2.destroyWindow(title)"
   ]
  },
  {
   "cell_type": "code",
   "execution_count": 65,
   "id": "f9619ae0-a381-49bf-943a-6084fa1784dc",
   "metadata": {},
   "outputs": [],
   "source": [
    "# Tạo 1 ảnh\n",
    "img = np.zeros((400,400,3), dtype=np.uint8)\n",
    "display('Image', img)"
   ]
  },
  {
   "cell_type": "code",
   "execution_count": 74,
   "id": "6913d85b-f04e-4dda-a4b8-64a6ab631b48",
   "metadata": {},
   "outputs": [],
   "source": [
    "# Vẽ 1 đường thẳng\n",
    "cv2.line(img, (50,50), (350,50), (0,0,255), 2)\n",
    "display('Image', img)"
   ]
  },
  {
   "cell_type": "code",
   "execution_count": 70,
   "id": "c39764bb-bcf4-4429-96a6-36a0b9266e5d",
   "metadata": {},
   "outputs": [],
   "source": [
    "# Vẽ 1 hình tròn\n",
    "cv2.circle(img, (100,100), 50, (0,255,0), -1)\n",
    "display('Image', img)"
   ]
  },
  {
   "cell_type": "code",
   "execution_count": 75,
   "id": "f1961586-cef7-49d6-8515-7632ffff0084",
   "metadata": {},
   "outputs": [],
   "source": [
    "# Vẽ 1 hình vuông\n",
    "cv2.rectangle(img, (100,100), (300,300), (255,0,0), 2)\n",
    "display('Image', img)"
   ]
  },
  {
   "cell_type": "code",
   "execution_count": 82,
   "id": "bcb121a8-026f-4c1c-ab0a-ea69ac57cd15",
   "metadata": {},
   "outputs": [],
   "source": [
    "# Ghi text trên hình ảnh\n",
    "content = 'Hoang Huu Dien'\n",
    "font = cv2.FONT_HERSHEY_SIMPLEX\n",
    "cv2.putText(img, content, (10,380), font, 0.6, (255,255,255), 2)\n",
    "display('Image', img)"
   ]
  },
  {
   "cell_type": "code",
   "execution_count": null,
   "id": "63011f37-c0d0-462e-aabc-99f52af55c29",
   "metadata": {},
   "outputs": [],
   "source": []
  },
  {
   "cell_type": "code",
   "execution_count": null,
   "id": "8a8ad2da-15c8-4ec7-b615-c952e3f0b8a2",
   "metadata": {},
   "outputs": [],
   "source": []
  }
 ],
 "metadata": {
  "kernelspec": {
   "display_name": "Python 3 (ipykernel)",
   "language": "python",
   "name": "python3"
  },
  "language_info": {
   "codemirror_mode": {
    "name": "ipython",
    "version": 3
   },
   "file_extension": ".py",
   "mimetype": "text/x-python",
   "name": "python",
   "nbconvert_exporter": "python",
   "pygments_lexer": "ipython3",
   "version": "3.12.4"
  }
 },
 "nbformat": 4,
 "nbformat_minor": 5
}
