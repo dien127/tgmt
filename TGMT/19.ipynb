{
 "cells": [
  {
   "cell_type": "code",
   "execution_count": 1,
   "id": "d903560b-6ac8-44f5-aa18-db877ead3bfe",
   "metadata": {},
   "outputs": [
    {
     "name": "stdout",
     "output_type": "stream",
     "text": [
      "Collecting opencv-python\n",
      "  Downloading opencv_python-4.10.0.84-cp37-abi3-win_amd64.whl.metadata (20 kB)\n",
      "Requirement already satisfied: numpy>=1.21.2 in d:\\thigiacpc\\lib\\site-packages (from opencv-python) (1.26.4)\n",
      "Downloading opencv_python-4.10.0.84-cp37-abi3-win_amd64.whl (38.8 MB)\n",
      "   ---------------------------------------- 0.0/38.8 MB ? eta -:--:--\n",
      "   ---------------------------------------- 0.3/38.8 MB ? eta -:--:--\n",
      "   - -------------------------------------- 1.3/38.8 MB 4.2 MB/s eta 0:00:09\n",
      "   -- ------------------------------------- 2.4/38.8 MB 4.2 MB/s eta 0:00:09\n",
      "   --- ------------------------------------ 3.4/38.8 MB 4.3 MB/s eta 0:00:09\n",
      "   ---- ----------------------------------- 4.2/38.8 MB 4.3 MB/s eta 0:00:08\n",
      "   ----- ---------------------------------- 5.2/38.8 MB 4.5 MB/s eta 0:00:08\n",
      "   ------ --------------------------------- 6.6/38.8 MB 4.7 MB/s eta 0:00:07\n",
      "   -------- ------------------------------- 7.9/38.8 MB 4.8 MB/s eta 0:00:07\n",
      "   --------- ------------------------------ 8.9/38.8 MB 4.8 MB/s eta 0:00:07\n",
      "   ---------- ----------------------------- 10.0/38.8 MB 4.9 MB/s eta 0:00:06\n",
      "   ----------- ---------------------------- 11.3/38.8 MB 5.0 MB/s eta 0:00:06\n",
      "   ------------ --------------------------- 12.3/38.8 MB 4.9 MB/s eta 0:00:06\n",
      "   ------------- -------------------------- 13.4/38.8 MB 5.0 MB/s eta 0:00:06\n",
      "   -------------- ------------------------- 14.4/38.8 MB 5.0 MB/s eta 0:00:05\n",
      "   --------------- ------------------------ 15.5/38.8 MB 5.0 MB/s eta 0:00:05\n",
      "   ----------------- ---------------------- 16.8/38.8 MB 5.0 MB/s eta 0:00:05\n",
      "   ------------------ --------------------- 17.8/38.8 MB 5.1 MB/s eta 0:00:05\n",
      "   ------------------- -------------------- 18.9/38.8 MB 5.1 MB/s eta 0:00:04\n",
      "   -------------------- ------------------- 19.9/38.8 MB 5.1 MB/s eta 0:00:04\n",
      "   --------------------- ------------------ 21.0/38.8 MB 5.0 MB/s eta 0:00:04\n",
      "   ---------------------- ----------------- 22.0/38.8 MB 5.0 MB/s eta 0:00:04\n",
      "   ----------------------- ---------------- 22.8/38.8 MB 5.0 MB/s eta 0:00:04\n",
      "   ------------------------ --------------- 23.6/38.8 MB 5.0 MB/s eta 0:00:04\n",
      "   ------------------------- -------------- 24.6/38.8 MB 4.9 MB/s eta 0:00:03\n",
      "   -------------------------- ------------- 25.7/38.8 MB 4.9 MB/s eta 0:00:03\n",
      "   --------------------------- ------------ 26.7/38.8 MB 4.9 MB/s eta 0:00:03\n",
      "   ---------------------------- ----------- 27.8/38.8 MB 4.9 MB/s eta 0:00:03\n",
      "   ----------------------------- ---------- 28.8/38.8 MB 4.9 MB/s eta 0:00:03\n",
      "   ------------------------------- -------- 30.1/38.8 MB 5.0 MB/s eta 0:00:02\n",
      "   -------------------------------- ------- 31.2/38.8 MB 5.0 MB/s eta 0:00:02\n",
      "   --------------------------------- ------ 32.5/38.8 MB 5.0 MB/s eta 0:00:02\n",
      "   ---------------------------------- ----- 33.6/38.8 MB 5.0 MB/s eta 0:00:02\n",
      "   ----------------------------------- ---- 34.9/38.8 MB 5.0 MB/s eta 0:00:01\n",
      "   ------------------------------------ --- 35.9/38.8 MB 5.0 MB/s eta 0:00:01\n",
      "   -------------------------------------- - 37.2/38.8 MB 5.1 MB/s eta 0:00:01\n",
      "   ---------------------------------------  38.3/38.8 MB 5.1 MB/s eta 0:00:01\n",
      "   ---------------------------------------- 38.8/38.8 MB 5.1 MB/s eta 0:00:00\n",
      "Installing collected packages: opencv-python\n",
      "Successfully installed opencv-python-4.10.0.84\n"
     ]
    }
   ],
   "source": [
    "#!pip install opencv-python"
   ]
  },
  {
   "cell_type": "code",
   "execution_count": 9,
   "id": "836537ff-d231-474b-b02d-68928beea71a",
   "metadata": {},
   "outputs": [],
   "source": [
    "# Import thư viện\n",
    "import cv2"
   ]
  },
  {
   "cell_type": "code",
   "execution_count": 11,
   "id": "f0c52ccd-782e-4070-af70-980f11662bb7",
   "metadata": {},
   "outputs": [],
   "source": [
    "def display(title, img):\n",
    "    cv2.imshow(title, img)\n",
    "    # Chờ 1 khoảng thời gian\n",
    "    cv2.waitKey(0)\n",
    "    # Đóng window\n",
    "    cv2.destroyWindow(title)"
   ]
  },
  {
   "cell_type": "code",
   "execution_count": 13,
   "id": "6e405ad5-bf2e-4508-9de9-85723e2b56dc",
   "metadata": {},
   "outputs": [
    {
     "name": "stdout",
     "output_type": "stream",
     "text": [
      "[[[194 203 253]\n",
      "  [194 203 253]\n",
      "  [194 203 253]\n",
      "  ...\n",
      "  [248 241 225]\n",
      "  [248 241 225]\n",
      "  [248 241 225]]\n",
      "\n",
      " [[194 203 253]\n",
      "  [194 203 253]\n",
      "  [194 203 253]\n",
      "  ...\n",
      "  [248 241 225]\n",
      "  [248 241 225]\n",
      "  [248 241 225]]\n",
      "\n",
      " [[194 203 253]\n",
      "  [194 203 253]\n",
      "  [194 203 253]\n",
      "  ...\n",
      "  [248 241 225]\n",
      "  [248 241 225]\n",
      "  [248 241 225]]\n",
      "\n",
      " ...\n",
      "\n",
      " [[194 203 253]\n",
      "  [194 203 253]\n",
      "  [194 203 253]\n",
      "  ...\n",
      "  [248 241 225]\n",
      "  [248 241 225]\n",
      "  [248 241 225]]\n",
      "\n",
      " [[194 203 253]\n",
      "  [194 203 253]\n",
      "  [194 203 253]\n",
      "  ...\n",
      "  [248 241 225]\n",
      "  [248 241 225]\n",
      "  [248 241 225]]\n",
      "\n",
      " [[194 203 253]\n",
      "  [194 203 253]\n",
      "  [194 203 253]\n",
      "  ...\n",
      "  [248 241 225]\n",
      "  [248 241 225]\n",
      "  [248 241 225]]]\n"
     ]
    }
   ],
   "source": [
    "# Đọc 1 ảnh( nhấn TAB để nhìn autocomplete)\n",
    "path = 'D:/img/nam.png'\n",
    "img = cv2.imread(path)\n",
    "# In thông tin của ảnh\n",
    "print(img)"
   ]
  },
  {
   "cell_type": "code",
   "execution_count": 15,
   "id": "1bea957c-c618-49ca-aad4-6edbb2f6d196",
   "metadata": {},
   "outputs": [
    {
     "name": "stdout",
     "output_type": "stream",
     "text": [
      "(1087, 1129, 3)\n",
      "1087\n",
      "1129\n",
      "3\n"
     ]
    }
   ],
   "source": [
    "# Lấy kích thước\n",
    "print(img.shape)\n",
    "x, y, z = img.shape\n",
    "print(x)\n",
    "print(y)\n",
    "print(z)"
   ]
  },
  {
   "cell_type": "code",
   "execution_count": 17,
   "id": "1d9425ff-08b0-431a-980a-244af2c366fb",
   "metadata": {},
   "outputs": [],
   "source": [
    "# Hiển thị ảnh\n",
    "cv2.imshow('Window', img)\n",
    "# Chờ 1 khoảng thời gian\n",
    "cv2.waitKey(10000)\n",
    "# Đóng Window\n",
    "cv2.destroyWindow('Window')"
   ]
  },
  {
   "cell_type": "code",
   "execution_count": 18,
   "id": "682f18da-6acc-4c11-bb25-c2cc58b7deab",
   "metadata": {},
   "outputs": [],
   "source": [
    "# Tách màu\n",
    "b, g, r = cv2.split(img)\n",
    "cv2.imshow('Window', img)\n",
    "cv2.imshow('Red', r)\n",
    "cv2.imshow('Green', g)\n",
    "cv2.imshow('Blue', b)\n",
    "\n",
    "# Chờ 1 khoảng thời gian\n",
    "cv2.waitKey(0)\n",
    "# Đóng window\n",
    "cv2.destroyAllWindows()"
   ]
  },
  {
   "cell_type": "code",
   "execution_count": 19,
   "id": "4a7087b3-3050-490d-b150-b81137d93f3e",
   "metadata": {},
   "outputs": [],
   "source": [
    "gray_img = cv2.cvtColor(img, cv2.COLOR_BGR2GRAY)\n",
    "img_2 = cv2.cvtColor(img, cv2.COLOR_BGR2RGB)\n",
    "cv2.imshow('Window', img)\n",
    "cv2.imshow('gray_img', gray_img)\n",
    "cv2.imshow('img_2', img_2)\n",
    "# Chờ một khoảng thời gian\n",
    "cv2.waitKey(0)\n",
    "# Đóng window\n",
    "cv2.destroyAllWindows()"
   ]
  },
  {
   "cell_type": "code",
   "execution_count": 27,
   "id": "4fe49a0d-ce41-4582-8de0-4086990865b7",
   "metadata": {},
   "outputs": [],
   "source": [
    "# Thay đổi thông số của điểm ảnh\n",
    "height, width, z = img.shape\n",
    "quater_h = height/2\n",
    "quater_w = width/2\n",
    "\n",
    "# geen color\n",
    "green_color = (0,255,0)\n",
    "\n",
    "\n",
    "# thay đổi màu của góc 1/4 bên trái trên\n",
    "\n",
    "for y in range(int(quater_h)):\n",
    "    for x in range(int(quater_w)):\n",
    "        img_2[y, x] = green_color\n",
    "# Hiển thị\n",
    "display('Window', img)\n",
    "display('Window-2', img_2)\n"
   ]
  },
  {
   "cell_type": "code",
   "execution_count": null,
   "id": "24a3a493-f8ac-4b6c-ba14-f0c78aaab1c9",
   "metadata": {},
   "outputs": [],
   "source": []
  }
 ],
 "metadata": {
  "kernelspec": {
   "display_name": "Python 3 (ipykernel)",
   "language": "python",
   "name": "python3"
  },
  "language_info": {
   "codemirror_mode": {
    "name": "ipython",
    "version": 3
   },
   "file_extension": ".py",
   "mimetype": "text/x-python",
   "name": "python",
   "nbconvert_exporter": "python",
   "pygments_lexer": "ipython3",
   "version": "3.12.4"
  }
 },
 "nbformat": 4,
 "nbformat_minor": 5
}
